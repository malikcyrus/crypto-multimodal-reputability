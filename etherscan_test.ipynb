{
 "cells": [
  {
   "cell_type": "code",
   "execution_count": 1,
   "metadata": {},
   "outputs": [],
   "source": [
    "import pandas as pd\n",
    "import numpy as np \n",
    "from etherscan import Etherscan\n",
    "import requests\n",
    "import json\n",
    "import time\n",
    "from dotenv import load_dotenv\n",
    "import os\n",
    "from multiprocessing import Pool\n",
    "import logging\n",
    "from twilio.rest import Client\n",
    "from datetime import datetime"
   ]
  },
  {
   "cell_type": "code",
   "execution_count": 17,
   "metadata": {},
   "outputs": [
    {
     "name": "stdout",
     "output_type": "stream",
     "text": [
      "Total Memory: 3.49 GB\n",
      "Available Memory: 1.41 GB\n",
      "Used Memory: 1.93 GB\n",
      "Memory Usage Percentage: 59.70%\n",
      "True\n"
     ]
    }
   ],
   "source": [
    "import psutil\n",
    "\n",
    "# Function to monitor memory usage\n",
    "def monitor_memory_usage():\n",
    "    # Get memory usage statistics\n",
    "    mem = psutil.virtual_memory()\n",
    "    \n",
    "    # Print memory usage information\n",
    "    print(f\"Total Memory: {mem.total / (1024 ** 3):.2f} GB\")\n",
    "    print(f\"Available Memory: {mem.available / (1024 ** 3):.2f} GB\")\n",
    "    print(f\"Used Memory: {mem.used / (1024 ** 3):.2f} GB\")\n",
    "    print(f\"Memory Usage Percentage: {mem.percent:.2f}%\")\n",
    "# Example usage\n",
    "monitor_memory_usage()\n",
    "\n",
    "def memory_usage_pass():\n",
    "    mem = psutil.virtual_memory()\n",
    "    if mem.percent > 90:\n",
    "        return True\n",
    "    \n",
    "    return True \n",
    "\n",
    "print(memory_usage_pass())"
   ]
  },
  {
   "cell_type": "markdown",
   "metadata": {},
   "source": [
    "## Load Enviornment Variables"
   ]
  },
  {
   "cell_type": "code",
   "execution_count": 15,
   "metadata": {},
   "outputs": [],
   "source": [
    "# Load environment variables from .env\n",
    "load_dotenv()\n",
    "\n",
    "# Access the API_KEY variable\n",
    "ETH_API_KEY = os.getenv('ETH_API_KEY')"
   ]
  },
  {
   "cell_type": "markdown",
   "metadata": {},
   "source": [
    "## Set up Twilio for SMS"
   ]
  },
  {
   "cell_type": "code",
   "execution_count": 16,
   "metadata": {},
   "outputs": [],
   "source": [
    "# Your Twilio Account SID and Auth Token\n",
    "account_sid = os.getenv('ACC_SID')\n",
    "auth_token = os.getenv('AUTH_TOKEN')\n",
    "\n",
    "# Your Twilio phone number and your own phone number\n",
    "from_number = os.getenv('FROM_NUM')\n",
    "to_number = os.getenv('TO_NUM')\n",
    "\n",
    "tw_client = Client(account_sid, auth_token)\n",
    "\n",
    "def send_sms(message):\n",
    "    message = tw_client.messages.create(\n",
    "        body=message,\n",
    "        from_=from_number,\n",
    "        to=to_number\n",
    "    )\n",
    "\n",
    "    print(\"SMS sent successfully!\")"
   ]
  },
  {
   "cell_type": "markdown",
   "metadata": {},
   "source": [
    "## Set up Logging for Error/ Warning"
   ]
  },
  {
   "cell_type": "code",
   "execution_count": 18,
   "metadata": {},
   "outputs": [],
   "source": [
    "logging.basicConfig(level=logging.INFO,  # Set logging level to INFO\n",
    "                    format='%(asctime)s - %(levelname)s - %(message)s',\n",
    "                    filename='transaction_logs.log',  # Log file name\n",
    "                    filemode='a')  # Append mode\n",
    "\n",
    "# Create a console handler and set the level to INFO\n",
    "console = logging.StreamHandler()\n",
    "console.setLevel(logging.INFO)"
   ]
  },
  {
   "cell_type": "markdown",
   "metadata": {},
   "source": [
    "## Fetch Illicit & Reputable Addresses"
   ]
  },
  {
   "cell_type": "code",
   "execution_count": 19,
   "metadata": {},
   "outputs": [],
   "source": [
    "def split_array_to_rows(value):\n",
    "        cleaned_values = []\n",
    "        if isinstance(value, list):\n",
    "            for val in value:\n",
    "                val = val.strip(\"[]\").replace(\"'\", \"\")  # Remove square brackets and single quotes\n",
    "                if ',' in val:\n",
    "                    val_list = val.split(',')\n",
    "                    cleaned_values.extend(val_list)\n",
    "                else:\n",
    "                    cleaned_values.append(val)\n",
    "        elif isinstance(value, str):\n",
    "            val = value.strip(\"[]\").replace(\"'\", \"\")  # Remove square brackets and single quotes\n",
    "            if ',' in val:\n",
    "                val_list = val.split(',')\n",
    "                cleaned_values.extend(val_list)\n",
    "            else:\n",
    "                cleaned_values.append(val)\n",
    "        return cleaned_values"
   ]
  },
  {
   "cell_type": "code",
   "execution_count": 20,
   "metadata": {},
   "outputs": [],
   "source": [
    "def get_reputable_sc_addresses(blockchain_network):\n",
    "    csv_file = './fetch_reputable_accounts/ethereum_smart_contracts.csv'\n",
    "    df = pd.read_csv(csv_file)\n",
    "    return df[blockchain_network].dropna().reset_index(drop=True)\n",
    "\n",
    "def get_illicit_sc_addresses(blockchain_network):\n",
    "    csv_file = './fetch_illicit_accounts/illicit_smart_contract_addresses.csv'\n",
    "    df = pd.read_csv(csv_file)\n",
    "    addresses = df[blockchain_network].apply(split_array_to_rows).explode(blockchain_network)\n",
    "    return addresses.dropna().reset_index(drop=True)"
   ]
  },
  {
   "cell_type": "code",
   "execution_count": 23,
   "metadata": {},
   "outputs": [],
   "source": [
    "addr_rep_df = get_reputable_sc_addresses('ethereum')\n",
    "addr_ill_df = get_illicit_sc_addresses('addresses.ETH')"
   ]
  },
  {
   "cell_type": "code",
   "execution_count": 8,
   "metadata": {},
   "outputs": [],
   "source": [
    "def normal_transactions(address, blockchain_api_name):\n",
    "    URL = f\"https://api.{blockchain_api_name}.io/api?module=account&action=txlist&address={address}\" \\\n",
    "          f\"&startblock=0&endblock=99999999&page=1&offset=10000&sort=asc&apikey={ETH_API_KEY}\"\n",
    "    \n",
    "    r = requests.get(url=URL)\n",
    "    data = r.json()\n",
    "    df = pd.DataFrame(data[\"result\"]).drop(columns=['nonce', 'blockHash',\n",
    "                                                      'transactionIndex', 'txreceipt_status', 'input', \n",
    "                                                      'cumulativeGasUsed', 'gasUsed', 'confirmations', \n",
    "                                                      'functionName', 'methodId'])\n",
    "    return df"
   ]
  },
  {
   "cell_type": "code",
   "execution_count": 183,
   "metadata": {},
   "outputs": [
    {
     "data": {
      "text/plain": [
       "{'status': '0', 'message': 'No transactions found', 'result': []}"
      ]
     },
     "execution_count": 183,
     "metadata": {},
     "output_type": "execute_result"
    }
   ],
   "source": [
    "normal_transactions('0x8aF1380c436fC019b8055C61d09e3Ee5F182278C', 'etherscan')"
   ]
  },
  {
   "cell_type": "markdown",
   "metadata": {},
   "source": [
    "## Set up API for Fetching Transactions"
   ]
  },
  {
   "cell_type": "code",
   "execution_count": 22,
   "metadata": {},
   "outputs": [],
   "source": [
    "def fetch_transactions(address, blockchain_api_name, api_key):\n",
    "    url = build_url(address, blockchain_api_name, api_key)\n",
    "    try:\n",
    "        r = send_request(url)\n",
    "        if r is None:\n",
    "            return pd.DataFrame()  # Return an empty DataFrame if request failed\n",
    "        data = parse_response(r)\n",
    "        if data is None:\n",
    "            return pd.DataFrame()  # Return an empty DataFrame if response parsing failed\n",
    "        return process_transactions(data)\n",
    "    except Exception as e:\n",
    "        logging.error(f\"Error fetching transactions for address {address}: {e}\")\n",
    "        return pd.DataFrame()  # Return an empty DataFrame in case of error\n",
    "\n",
    "def build_url(address, blockchain_api_name, api_key):\n",
    "    return f\"https://api.{blockchain_api_name}.io/api?module=account&action=txlist&address={address}\" \\\n",
    "           f\"&startblock=0&endblock=99999999&page=1&offset=10000&sort=asc&apikey={api_key}\"\n",
    "\n",
    "\n",
    "def send_request(url):\n",
    "    try:\n",
    "        r = requests.get(url)\n",
    "        r.raise_for_status()  # Raise an error for HTTP errors\n",
    "        if r.status_code == 0:\n",
    "            logging.error(\"Rate limit exceeded. Sleeping for 1 second.\")\n",
    "            time.sleep(1)\n",
    "            r = requests.get(url)\n",
    "            r.raise_for_status()  # Raise an error for HTTP errors after retrying\n",
    "        return r\n",
    "    except requests.HTTPError as e:\n",
    "        logging.error(f\"HTTP error: {e}\")\n",
    "        return None\n",
    "    except Exception as e:\n",
    "        logging.error(f\"Error sending request: {e}\")\n",
    "        return None\n",
    "\n",
    "def parse_response(response):\n",
    "    try:\n",
    "        data = response.json()\n",
    "        if data.get('status') == '0':\n",
    "            logging.warning(\"No transactions found.\")\n",
    "            return None\n",
    "        return data\n",
    "    except Exception as e:\n",
    "        logging.error(f\"Error parsing response: {e}\")\n",
    "        return None\n",
    "\n",
    "def process_transactions(data):\n",
    "    try:\n",
    "        transactions = pd.DataFrame(data.get(\"result\", []))\n",
    "        transactions.drop(columns=['nonce', 'blockHash', 'transactionIndex', 'txreceipt_status', 'input', \n",
    "                                   'cumulativeGasUsed', 'gasUsed', 'confirmations', 'functionName', 'methodId'], \n",
    "                          inplace=True)\n",
    "        return transactions\n",
    "    except Exception as e:\n",
    "        logging.error(f\"Error processing transactions: {e}\")\n",
    "        return pd.DataFrame()"
   ]
  },
  {
   "cell_type": "code",
   "execution_count": 10,
   "metadata": {},
   "outputs": [],
   "source": [
    "def fetch_transactions_parallel(addresses, blockchain_api_name, api_key, num_processes=7):\n",
    "    # Use multiprocessing Pool to fetch transactions in parallel\n",
    "    with Pool(processes=num_processes) as pool:\n",
    "        # Use pool.starmap to pass multiple arguments to the function\n",
    "        results = pool.starmap(fetch_transactions, [(addr, blockchain_api_name, api_key) for addr in addresses])\n",
    "    \n",
    "    # Concatenate results into a single DataFrame\n",
    "    final_df = pd.concat(results, ignore_index=True)\n",
    "    return final_df"
   ]
  },
  {
   "cell_type": "markdown",
   "metadata": {},
   "source": [
    "## Fetch Illicit Transactions"
   ]
  },
  {
   "cell_type": "code",
   "execution_count": 216,
   "metadata": {},
   "outputs": [
    {
     "name": "stdout",
     "output_type": "stream",
     "text": [
      "SMS sent successfully!\n"
     ]
    }
   ],
   "source": [
    "final_ill_transactions_df = fetch_transactions_parallel(addr_ill_df, 'etherscan', ETH_API_KEY)\n",
    "final_ill_transactions_df['FLAG'] = 0\n",
    "final_ill_transactions_df.to_csv('ill_transactions.csv', index=False)\n",
    "\n",
    "# Get the current timestamp\n",
    "current_time = datetime.now()\n",
    "\n",
    "# Print the message with the current timestamp\n",
    "send_sms(f\"Finished Fetching Illicit transactions at {current_time}\")"
   ]
  },
  {
   "cell_type": "code",
   "execution_count": 217,
   "metadata": {},
   "outputs": [
    {
     "data": {
      "text/html": [
       "<div>\n",
       "<style scoped>\n",
       "    .dataframe tbody tr th:only-of-type {\n",
       "        vertical-align: middle;\n",
       "    }\n",
       "\n",
       "    .dataframe tbody tr th {\n",
       "        vertical-align: top;\n",
       "    }\n",
       "\n",
       "    .dataframe thead th {\n",
       "        text-align: right;\n",
       "    }\n",
       "</style>\n",
       "<table border=\"1\" class=\"dataframe\">\n",
       "  <thead>\n",
       "    <tr style=\"text-align: right;\">\n",
       "      <th></th>\n",
       "      <th>blockNumber</th>\n",
       "      <th>timeStamp</th>\n",
       "      <th>hash</th>\n",
       "      <th>from</th>\n",
       "      <th>to</th>\n",
       "      <th>value</th>\n",
       "      <th>gas</th>\n",
       "      <th>gasPrice</th>\n",
       "      <th>isError</th>\n",
       "      <th>contractAddress</th>\n",
       "      <th>FLAG</th>\n",
       "    </tr>\n",
       "  </thead>\n",
       "  <tbody>\n",
       "    <tr>\n",
       "      <th>0</th>\n",
       "      <td>4076477</td>\n",
       "      <td>1501076489</td>\n",
       "      <td>0x0b8f0ad2d8f85ce70b46a1498b52b56621fc62101ff7...</td>\n",
       "      <td>0xfdd3bfe92735e109726d397007464624a39334d7</td>\n",
       "      <td>0xd0cc2b24980cbcca47ef755da88b220a82291407</td>\n",
       "      <td>11493999000000000000</td>\n",
       "      <td>21000</td>\n",
       "      <td>21000000000</td>\n",
       "      <td>0</td>\n",
       "      <td></td>\n",
       "      <td>0</td>\n",
       "    </tr>\n",
       "    <tr>\n",
       "      <th>1</th>\n",
       "      <td>4076495</td>\n",
       "      <td>1501076866</td>\n",
       "      <td>0x08fef225ec0eb7b4da6372935327256796227bec832e...</td>\n",
       "      <td>0xd0cc2b24980cbcca47ef755da88b220a82291407</td>\n",
       "      <td>0xd8711dba2db856eebd7f01db3d877e4c53d6dee2</td>\n",
       "      <td>100000000000000000</td>\n",
       "      <td>21000</td>\n",
       "      <td>21000000000</td>\n",
       "      <td>0</td>\n",
       "      <td></td>\n",
       "      <td>0</td>\n",
       "    </tr>\n",
       "    <tr>\n",
       "      <th>2</th>\n",
       "      <td>4076502</td>\n",
       "      <td>1501077056</td>\n",
       "      <td>0xea426df711fc8ddebc1236449a4091baee58f2171985...</td>\n",
       "      <td>0x7e8def9b77417f60a5a6a420573f4580e14e17b1</td>\n",
       "      <td>0xd0cc2b24980cbcca47ef755da88b220a82291407</td>\n",
       "      <td>296901974000000000</td>\n",
       "      <td>21000</td>\n",
       "      <td>21000000000</td>\n",
       "      <td>0</td>\n",
       "      <td></td>\n",
       "      <td>0</td>\n",
       "    </tr>\n",
       "    <tr>\n",
       "      <th>3</th>\n",
       "      <td>4076528</td>\n",
       "      <td>1501077776</td>\n",
       "      <td>0x757aba719f8d5ded4ff9d67f3ff7b0350ecda694971c...</td>\n",
       "      <td>0x984a01719fceeedd10c43afca9d4220508e54f1a</td>\n",
       "      <td>0xd0cc2b24980cbcca47ef755da88b220a82291407</td>\n",
       "      <td>361313983000011260</td>\n",
       "      <td>21000</td>\n",
       "      <td>21000000000</td>\n",
       "      <td>0</td>\n",
       "      <td></td>\n",
       "      <td>0</td>\n",
       "    </tr>\n",
       "    <tr>\n",
       "      <th>4</th>\n",
       "      <td>4076652</td>\n",
       "      <td>1501080107</td>\n",
       "      <td>0x0091dcfbd215e6a4a126f9139ac204e522e62164319e...</td>\n",
       "      <td>0xd0cc2b24980cbcca47ef755da88b220a82291407</td>\n",
       "      <td>0x86849f631edd436794ec35982f4b5459056190d3</td>\n",
       "      <td>100000000000000000</td>\n",
       "      <td>21000</td>\n",
       "      <td>21000000000</td>\n",
       "      <td>0</td>\n",
       "      <td></td>\n",
       "      <td>0</td>\n",
       "    </tr>\n",
       "    <tr>\n",
       "      <th>...</th>\n",
       "      <td>...</td>\n",
       "      <td>...</td>\n",
       "      <td>...</td>\n",
       "      <td>...</td>\n",
       "      <td>...</td>\n",
       "      <td>...</td>\n",
       "      <td>...</td>\n",
       "      <td>...</td>\n",
       "      <td>...</td>\n",
       "      <td>...</td>\n",
       "      <td>...</td>\n",
       "    </tr>\n",
       "    <tr>\n",
       "      <th>102774</th>\n",
       "      <td>18813209</td>\n",
       "      <td>1702906547</td>\n",
       "      <td>0x2643d4a32a746201e990596f16ca6c1e3d28ad9ff437...</td>\n",
       "      <td>0xb6af46be91b1ba4043c99f968c18871d3a763059</td>\n",
       "      <td>0x054d64b73d3d8a21af3d764efd76bcaa774f3bb2</td>\n",
       "      <td>0</td>\n",
       "      <td>42532</td>\n",
       "      <td>77822873118</td>\n",
       "      <td>0</td>\n",
       "      <td></td>\n",
       "      <td>0</td>\n",
       "    </tr>\n",
       "    <tr>\n",
       "      <th>102775</th>\n",
       "      <td>18814490</td>\n",
       "      <td>1702922111</td>\n",
       "      <td>0x986d9759c170091f13220d4fd78f474cbef481bc36c4...</td>\n",
       "      <td>0xb6af46be91b1ba4043c99f968c18871d3a763059</td>\n",
       "      <td>0x4740735aa98dc8aa232bd049f8f0210458e7fca3</td>\n",
       "      <td>0</td>\n",
       "      <td>71478</td>\n",
       "      <td>87218808399</td>\n",
       "      <td>0</td>\n",
       "      <td></td>\n",
       "      <td>0</td>\n",
       "    </tr>\n",
       "    <tr>\n",
       "      <th>102776</th>\n",
       "      <td>18986061</td>\n",
       "      <td>1705004951</td>\n",
       "      <td>0x0b723dfbd398799d94cd2d597b8da697e0d5514d0fd1...</td>\n",
       "      <td>0xb6af46be91b1ba4043c99f968c18871d3a763059</td>\n",
       "      <td>0xdac17f958d2ee523a2206206994597c13d831ec7</td>\n",
       "      <td>0</td>\n",
       "      <td>65606</td>\n",
       "      <td>29910880403</td>\n",
       "      <td>0</td>\n",
       "      <td></td>\n",
       "      <td>0</td>\n",
       "    </tr>\n",
       "    <tr>\n",
       "      <th>102777</th>\n",
       "      <td>19064717</td>\n",
       "      <td>1705956335</td>\n",
       "      <td>0x205f5055d0eeab84d568dc1b53234760b6b6d175f884...</td>\n",
       "      <td>0xb6af46be91b1ba4043c99f968c18871d3a763059</td>\n",
       "      <td>0xf411903cbc70a74d22900a5de66a2dda66507255</td>\n",
       "      <td>0</td>\n",
       "      <td>82237</td>\n",
       "      <td>17490068736</td>\n",
       "      <td>0</td>\n",
       "      <td></td>\n",
       "      <td>0</td>\n",
       "    </tr>\n",
       "    <tr>\n",
       "      <th>102778</th>\n",
       "      <td>19244684</td>\n",
       "      <td>1708137719</td>\n",
       "      <td>0x0dc3579ade335dfd43d13b83676a269007d193ee14ce...</td>\n",
       "      <td>0xb6af46be91b1ba4043c99f968c18871d3a763059</td>\n",
       "      <td>0x0ec78ed49c2d27b315d462d43b5bab94d2c79bf8</td>\n",
       "      <td>0</td>\n",
       "      <td>67353</td>\n",
       "      <td>18274493326</td>\n",
       "      <td>0</td>\n",
       "      <td></td>\n",
       "      <td>0</td>\n",
       "    </tr>\n",
       "  </tbody>\n",
       "</table>\n",
       "<p>102779 rows × 11 columns</p>\n",
       "</div>"
      ],
      "text/plain": [
       "       blockNumber   timeStamp  \\\n",
       "0          4076477  1501076489   \n",
       "1          4076495  1501076866   \n",
       "2          4076502  1501077056   \n",
       "3          4076528  1501077776   \n",
       "4          4076652  1501080107   \n",
       "...            ...         ...   \n",
       "102774    18813209  1702906547   \n",
       "102775    18814490  1702922111   \n",
       "102776    18986061  1705004951   \n",
       "102777    19064717  1705956335   \n",
       "102778    19244684  1708137719   \n",
       "\n",
       "                                                     hash  \\\n",
       "0       0x0b8f0ad2d8f85ce70b46a1498b52b56621fc62101ff7...   \n",
       "1       0x08fef225ec0eb7b4da6372935327256796227bec832e...   \n",
       "2       0xea426df711fc8ddebc1236449a4091baee58f2171985...   \n",
       "3       0x757aba719f8d5ded4ff9d67f3ff7b0350ecda694971c...   \n",
       "4       0x0091dcfbd215e6a4a126f9139ac204e522e62164319e...   \n",
       "...                                                   ...   \n",
       "102774  0x2643d4a32a746201e990596f16ca6c1e3d28ad9ff437...   \n",
       "102775  0x986d9759c170091f13220d4fd78f474cbef481bc36c4...   \n",
       "102776  0x0b723dfbd398799d94cd2d597b8da697e0d5514d0fd1...   \n",
       "102777  0x205f5055d0eeab84d568dc1b53234760b6b6d175f884...   \n",
       "102778  0x0dc3579ade335dfd43d13b83676a269007d193ee14ce...   \n",
       "\n",
       "                                              from  \\\n",
       "0       0xfdd3bfe92735e109726d397007464624a39334d7   \n",
       "1       0xd0cc2b24980cbcca47ef755da88b220a82291407   \n",
       "2       0x7e8def9b77417f60a5a6a420573f4580e14e17b1   \n",
       "3       0x984a01719fceeedd10c43afca9d4220508e54f1a   \n",
       "4       0xd0cc2b24980cbcca47ef755da88b220a82291407   \n",
       "...                                            ...   \n",
       "102774  0xb6af46be91b1ba4043c99f968c18871d3a763059   \n",
       "102775  0xb6af46be91b1ba4043c99f968c18871d3a763059   \n",
       "102776  0xb6af46be91b1ba4043c99f968c18871d3a763059   \n",
       "102777  0xb6af46be91b1ba4043c99f968c18871d3a763059   \n",
       "102778  0xb6af46be91b1ba4043c99f968c18871d3a763059   \n",
       "\n",
       "                                                to                 value  \\\n",
       "0       0xd0cc2b24980cbcca47ef755da88b220a82291407  11493999000000000000   \n",
       "1       0xd8711dba2db856eebd7f01db3d877e4c53d6dee2    100000000000000000   \n",
       "2       0xd0cc2b24980cbcca47ef755da88b220a82291407    296901974000000000   \n",
       "3       0xd0cc2b24980cbcca47ef755da88b220a82291407    361313983000011260   \n",
       "4       0x86849f631edd436794ec35982f4b5459056190d3    100000000000000000   \n",
       "...                                            ...                   ...   \n",
       "102774  0x054d64b73d3d8a21af3d764efd76bcaa774f3bb2                     0   \n",
       "102775  0x4740735aa98dc8aa232bd049f8f0210458e7fca3                     0   \n",
       "102776  0xdac17f958d2ee523a2206206994597c13d831ec7                     0   \n",
       "102777  0xf411903cbc70a74d22900a5de66a2dda66507255                     0   \n",
       "102778  0x0ec78ed49c2d27b315d462d43b5bab94d2c79bf8                     0   \n",
       "\n",
       "          gas     gasPrice isError contractAddress  FLAG  \n",
       "0       21000  21000000000       0                     0  \n",
       "1       21000  21000000000       0                     0  \n",
       "2       21000  21000000000       0                     0  \n",
       "3       21000  21000000000       0                     0  \n",
       "4       21000  21000000000       0                     0  \n",
       "...       ...          ...     ...             ...   ...  \n",
       "102774  42532  77822873118       0                     0  \n",
       "102775  71478  87218808399       0                     0  \n",
       "102776  65606  29910880403       0                     0  \n",
       "102777  82237  17490068736       0                     0  \n",
       "102778  67353  18274493326       0                     0  \n",
       "\n",
       "[102779 rows x 11 columns]"
      ]
     },
     "execution_count": 217,
     "metadata": {},
     "output_type": "execute_result"
    }
   ],
   "source": [
    "final_ill_transactions_df"
   ]
  },
  {
   "cell_type": "markdown",
   "metadata": {},
   "source": [
    "## Fetch Reputable Transactions"
   ]
  },
  {
   "cell_type": "markdown",
   "metadata": {},
   "source": [
    "### Splitting the dataset into batches"
   ]
  },
  {
   "cell_type": "code",
   "execution_count": 19,
   "metadata": {},
   "outputs": [],
   "source": [
    "# Function to split DataFrame into parts\n",
    "def split_dataframe_into_parts(df):\n",
    "    num_rows = len(df)\n",
    "    part_size = num_rows // 10\n",
    "    return [df.iloc[i*part_size:(i+1)*part_size] for i in range(10)]\n",
    "\n",
    "# Main function to process DataFrame in batches\n",
    "def process_dataframe_in_batches(blockchain_api_name, api_key):\n",
    "    address_batches = split_dataframe_into_parts(addr_rep_df)\n",
    "    for i, df_batch in enumerate(address_batches):\n",
    "        transactions_batch_df = fetch_transactions_parallel(df_batch, blockchain_api_name, api_key)\n",
    "        transactions_batch_df['FLAG'] = 1 \n",
    "        transactions_batch_df.to_csv(f'rep_transactions_{i+1}.csv', index=False)\n",
    "\n",
    "        current_time = datetime.now()\n",
    "        print(f'Batch {i+1} processed. Transactions saved to transactions_batch_{i+1}.csv')\n",
    "        send_sms(f'Batch {i+1}/4 processed at {current_time}')"
   ]
  },
  {
   "cell_type": "markdown",
   "metadata": {},
   "source": [
    "### Executing -- Fetching in Batches"
   ]
  },
  {
   "cell_type": "code",
   "execution_count": 24,
   "metadata": {},
   "outputs": [
    {
     "ename": "",
     "evalue": "",
     "output_type": "error",
     "traceback": [
      "\u001b[1;31mThe Kernel crashed while executing code in the current cell or a previous cell. \n",
      "\u001b[1;31mPlease review the code in the cell(s) to identify a possible cause of the failure. \n",
      "\u001b[1;31mClick <a href='https://aka.ms/vscodeJupyterKernelCrash'>here</a> for more info. \n",
      "\u001b[1;31mView Jupyter <a href='command:jupyter.viewOutput'>log</a> for further details."
     ]
    }
   ],
   "source": [
    "process_dataframe_in_batches('etherscan', ETH_API_KEY)\n",
    "# Get the current timestamp\n",
    "current_time = datetime.now()\n",
    "\n",
    "# Send sms indicating finished fetching transactions\n",
    "send_sms(f\"Finished Fetching Reputable transactions at {current_time}\")"
   ]
  }
 ],
 "metadata": {
  "kernelspec": {
   "display_name": "base",
   "language": "python",
   "name": "python3"
  },
  "language_info": {
   "codemirror_mode": {
    "name": "ipython",
    "version": 3
   },
   "file_extension": ".py",
   "mimetype": "text/x-python",
   "name": "python",
   "nbconvert_exporter": "python",
   "pygments_lexer": "ipython3",
   "version": "3.10.13"
  }
 },
 "nbformat": 4,
 "nbformat_minor": 2
}
