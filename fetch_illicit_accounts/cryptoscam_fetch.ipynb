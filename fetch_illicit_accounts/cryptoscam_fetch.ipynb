{
 "cells": [
  {
   "cell_type": "code",
   "execution_count": 1,
   "metadata": {},
   "outputs": [],
   "source": [
    "import pandas as pd \n",
    "import numpy as np \n",
    "from yaml import safe_load"
   ]
  },
  {
   "cell_type": "markdown",
   "metadata": {},
   "source": [
    "Reading data from CryptoScamDB "
   ]
  },
  {
   "cell_type": "code",
   "execution_count": 2,
   "metadata": {},
   "outputs": [],
   "source": [
    "# https://github.com/CryptoScamDB/blacklist/blob/master/data/urls.yaml\n",
    "with open('urls.yaml', 'r') as f:\n",
    "    df = pd.json_normalize(safe_load(f))"
   ]
  },
  {
   "cell_type": "code",
   "execution_count": 6,
   "metadata": {},
   "outputs": [],
   "source": [
    "df.to_csv('illicit_smart_contract_addresses.csv', index=False)"
   ]
  },
  {
   "cell_type": "code",
   "execution_count": 13,
   "metadata": {},
   "outputs": [
    {
     "data": {
      "text/plain": [
       "0                                                     NaN\n",
       "1            [0xD0cC2B24980CBCCA47EF755Da88B220a82291407]\n",
       "2                                                     NaN\n",
       "3                                                     NaN\n",
       "4                                                     NaN\n",
       "                              ...                        \n",
       "9884                                                  NaN\n",
       "9885    [0x4eba1ce155f9dc95d70e5ab2a94898b4f25266ac, 0...\n",
       "9886         [0x726f8c502b37c05cb08642f6350ee8a94e6481ac]\n",
       "9887         [0xb6af46be91b1ba4043c99f968c18871d3a763059]\n",
       "9888                                                  NaN\n",
       "Name: addresses.ETH, Length: 9889, dtype: object"
      ]
     },
     "execution_count": 13,
     "metadata": {},
     "output_type": "execute_result"
    }
   ],
   "source": [
    "df['addresses.ETH']"
   ]
  },
  {
   "cell_type": "code",
   "execution_count": 18,
   "metadata": {},
   "outputs": [],
   "source": [
    "df.dropna(subset=['addresses.ETH'], inplace=True)"
   ]
  },
  {
   "cell_type": "code",
   "execution_count": 23,
   "metadata": {},
   "outputs": [],
   "source": [
    "df_with_addresses = df[['name', 'url', 'category', 'addresses.ETH']].explode('addresses.ETH')\n",
    "df_with_addresses.reset_index(drop=True, inplace=True)"
   ]
  },
  {
   "cell_type": "code",
   "execution_count": 24,
   "metadata": {},
   "outputs": [
    {
     "data": {
      "text/html": [
       "<div>\n",
       "<style scoped>\n",
       "    .dataframe tbody tr th:only-of-type {\n",
       "        vertical-align: middle;\n",
       "    }\n",
       "\n",
       "    .dataframe tbody tr th {\n",
       "        vertical-align: top;\n",
       "    }\n",
       "\n",
       "    .dataframe thead th {\n",
       "        text-align: right;\n",
       "    }\n",
       "</style>\n",
       "<table border=\"1\" class=\"dataframe\">\n",
       "  <thead>\n",
       "    <tr style=\"text-align: right;\">\n",
       "      <th></th>\n",
       "      <th>name</th>\n",
       "      <th>url</th>\n",
       "      <th>category</th>\n",
       "      <th>addresses.ETH</th>\n",
       "    </tr>\n",
       "  </thead>\n",
       "  <tbody>\n",
       "    <tr>\n",
       "      <th>0</th>\n",
       "      <td>myelherwallel.com</td>\n",
       "      <td>http://myelherwallel.com</td>\n",
       "      <td>Phishing</td>\n",
       "      <td>0xD0cC2B24980CBCCA47EF755Da88B220a82291407</td>\n",
       "    </tr>\n",
       "    <tr>\n",
       "      <th>1</th>\n",
       "      <td>etherswap.org</td>\n",
       "      <td>http://etherswap.org</td>\n",
       "      <td>Phishing</td>\n",
       "      <td>0x4cdc1cba0aeb5539f2e0ba158281e67e0e54a9b1</td>\n",
       "    </tr>\n",
       "    <tr>\n",
       "      <th>2</th>\n",
       "      <td>myethwallet.net</td>\n",
       "      <td>http://myethwallet.net</td>\n",
       "      <td>Phishing</td>\n",
       "      <td>0x00e01A648Ff41346CDeB873182383333D2184dd1</td>\n",
       "    </tr>\n",
       "    <tr>\n",
       "      <th>3</th>\n",
       "      <td>myethwallet.net</td>\n",
       "      <td>http://myethwallet.net</td>\n",
       "      <td>Phishing</td>\n",
       "      <td>0x858457daa7e087ad74cdeeceab8419079bc2ca03</td>\n",
       "    </tr>\n",
       "    <tr>\n",
       "      <th>4</th>\n",
       "      <td>district-0x.io</td>\n",
       "      <td>http://district-0x.io</td>\n",
       "      <td>Phishing</td>\n",
       "      <td>0x240e125c20a4cC84Bd6E7F8D1FD07Aff4c06D43d</td>\n",
       "    </tr>\n",
       "    <tr>\n",
       "      <th>...</th>\n",
       "      <td>...</td>\n",
       "      <td>...</td>\n",
       "      <td>...</td>\n",
       "      <td>...</td>\n",
       "    </tr>\n",
       "    <tr>\n",
       "      <th>3999</th>\n",
       "      <td>token-metamask.com</td>\n",
       "      <td>https://token-metamask.com</td>\n",
       "      <td>Phishing</td>\n",
       "      <td>0x777c112507E16B8f4DDE3ec67f4012b4DD6FE59E</td>\n",
       "    </tr>\n",
       "    <tr>\n",
       "      <th>4000</th>\n",
       "      <td>coolmansuniversebabies.com</td>\n",
       "      <td>https://coolmansuniversebabies.com</td>\n",
       "      <td>Phishing</td>\n",
       "      <td>0x4eba1ce155f9dc95d70e5ab2a94898b4f25266ac</td>\n",
       "    </tr>\n",
       "    <tr>\n",
       "      <th>4001</th>\n",
       "      <td>coolmansuniversebabies.com</td>\n",
       "      <td>https://coolmansuniversebabies.com</td>\n",
       "      <td>Phishing</td>\n",
       "      <td>0x0BB5690957d9def9Ac09dA2e9666cb15a4D43800</td>\n",
       "    </tr>\n",
       "    <tr>\n",
       "      <th>4002</th>\n",
       "      <td>usdtpos.net</td>\n",
       "      <td>https://usdtpos.net</td>\n",
       "      <td>Scamming</td>\n",
       "      <td>0x726f8c502b37c05cb08642f6350ee8a94e6481ac</td>\n",
       "    </tr>\n",
       "    <tr>\n",
       "      <th>4003</th>\n",
       "      <td>eth-radar.com</td>\n",
       "      <td>https://eth-radar.com</td>\n",
       "      <td>Phishing</td>\n",
       "      <td>0xb6af46be91b1ba4043c99f968c18871d3a763059</td>\n",
       "    </tr>\n",
       "  </tbody>\n",
       "</table>\n",
       "<p>4004 rows × 4 columns</p>\n",
       "</div>"
      ],
      "text/plain": [
       "                            name                                 url  \\\n",
       "0              myelherwallel.com            http://myelherwallel.com   \n",
       "1                  etherswap.org                http://etherswap.org   \n",
       "2                myethwallet.net              http://myethwallet.net   \n",
       "3                myethwallet.net              http://myethwallet.net   \n",
       "4                 district-0x.io               http://district-0x.io   \n",
       "...                          ...                                 ...   \n",
       "3999          token-metamask.com          https://token-metamask.com   \n",
       "4000  coolmansuniversebabies.com  https://coolmansuniversebabies.com   \n",
       "4001  coolmansuniversebabies.com  https://coolmansuniversebabies.com   \n",
       "4002                 usdtpos.net                 https://usdtpos.net   \n",
       "4003               eth-radar.com               https://eth-radar.com   \n",
       "\n",
       "      category                               addresses.ETH  \n",
       "0     Phishing  0xD0cC2B24980CBCCA47EF755Da88B220a82291407  \n",
       "1     Phishing  0x4cdc1cba0aeb5539f2e0ba158281e67e0e54a9b1  \n",
       "2     Phishing  0x00e01A648Ff41346CDeB873182383333D2184dd1  \n",
       "3     Phishing  0x858457daa7e087ad74cdeeceab8419079bc2ca03  \n",
       "4     Phishing  0x240e125c20a4cC84Bd6E7F8D1FD07Aff4c06D43d  \n",
       "...        ...                                         ...  \n",
       "3999  Phishing  0x777c112507E16B8f4DDE3ec67f4012b4DD6FE59E  \n",
       "4000  Phishing  0x4eba1ce155f9dc95d70e5ab2a94898b4f25266ac  \n",
       "4001  Phishing  0x0BB5690957d9def9Ac09dA2e9666cb15a4D43800  \n",
       "4002  Scamming  0x726f8c502b37c05cb08642f6350ee8a94e6481ac  \n",
       "4003  Phishing  0xb6af46be91b1ba4043c99f968c18871d3a763059  \n",
       "\n",
       "[4004 rows x 4 columns]"
      ]
     },
     "execution_count": 24,
     "metadata": {},
     "output_type": "execute_result"
    }
   ],
   "source": [
    "df_with_addresses"
   ]
  }
 ],
 "metadata": {
  "kernelspec": {
   "display_name": "base",
   "language": "python",
   "name": "python3"
  },
  "language_info": {
   "codemirror_mode": {
    "name": "ipython",
    "version": 3
   },
   "file_extension": ".py",
   "mimetype": "text/x-python",
   "name": "python",
   "nbconvert_exporter": "python",
   "pygments_lexer": "ipython3",
   "version": "3.10.13"
  }
 },
 "nbformat": 4,
 "nbformat_minor": 2
}
