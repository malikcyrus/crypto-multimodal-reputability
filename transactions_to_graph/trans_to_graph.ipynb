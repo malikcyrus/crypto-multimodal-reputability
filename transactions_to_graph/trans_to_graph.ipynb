{
 "cells": [
  {
   "cell_type": "code",
   "execution_count": 2,
   "metadata": {},
   "outputs": [],
   "source": [
    "from neo4j import GraphDatabase\n",
    "import os\n",
    "from dotenv import load_dotenv\n",
    "import logging\n",
    "from multiprocessing import Pool\n",
    "import pandas as pd\n",
    "import itertools"
   ]
  },
  {
   "cell_type": "markdown",
   "metadata": {},
   "source": [
    "## Load Enviornment Variables"
   ]
  },
  {
   "cell_type": "code",
   "execution_count": 29,
   "metadata": {},
   "outputs": [],
   "source": [
    "load_dotenv()\n",
    "USERNAME = os.getenv('USERNAME_NEO4J')\n",
    "PASS = os.getenv('PASSWORD_NEO4J')\n",
    "URI = 'neo4j://localhost:7687'"
   ]
  },
  {
   "cell_type": "markdown",
   "metadata": {},
   "source": [
    "## Configuring Logging"
   ]
  },
  {
   "cell_type": "code",
   "execution_count": 4,
   "metadata": {},
   "outputs": [],
   "source": [
    "# Configure logging\n",
    "logging.basicConfig(filename='neo4j_import.log',\n",
    "                     level=logging.INFO, format='%(asctime)s - %(levelname)s - %(message)s')\n"
   ]
  },
  {
   "cell_type": "markdown",
   "metadata": {},
   "source": [
    "## Neo4j Driver Setup"
   ]
  },
  {
   "cell_type": "code",
   "execution_count": null,
   "metadata": {},
   "outputs": [],
   "source": [
    "# Function to connect to Neo4j\n",
    "def connect_to_neo4j(uri, user, password):\n",
    "    driver = GraphDatabase.driver(uri, auth=(user, password))\n",
    "    return driver\n",
    "\n",
    "driver = connect_to_neo4j(URI, USERNAME, PASS)"
   ]
  },
  {
   "cell_type": "markdown",
   "metadata": {},
   "source": [
    "## Illicit Smart Contract Transactions"
   ]
  },
  {
   "cell_type": "markdown",
   "metadata": {},
   "source": [
    "### Cypher Queries - Graph Schema"
   ]
  },
  {
   "cell_type": "code",
   "execution_count": 30,
   "metadata": {},
   "outputs": [],
   "source": [
    "\n",
    "\n",
    "def import_data_from_csv(driver):\n",
    "    with driver.session() as session:\n",
    "        query = \"\"\"\n",
    "            LOAD CSV WITH HEADERS FROM 'file:///illicit_transactions/illicit_transactions_eth.csv' AS row\n",
    "            WITH row SKIP 120500\n",
    "            CALL {\n",
    "                WITH row \n",
    "                MERGE (from:Account {address: COALESCE(row.from, 'Unknown')})\n",
    "                MERGE (to:Account {address: COALESCE(row.to, 'Unknown')})\n",
    "\n",
    "                MERGE (block:Block {blockNumber: toInteger(row.blockNumber), timeStamp: toInteger(row.timeStamp)})\n",
    "                \n",
    "                WITH row, toFloat(row.value) / 1.0E18 AS value\n",
    "                \n",
    "                MATCH (from:Account {address: COALESCE(row.from, 'Unknown')})\n",
    "                MATCH (to:Account {address: COALESCE(row.to, 'Unknown')})\n",
    "                CREATE (from)-[:TRANSFER {\n",
    "                    timeStamp: toInteger(row.timeStamp),\n",
    "                    hash: row.hash,\n",
    "                    value: value,\n",
    "                    gas: toInteger(row.gas),\n",
    "                    gasPrice: toInteger(row.gasPrice),\n",
    "                    isError: toBoolean(row.isError),\n",
    "                    reputabilityFlag: toInteger(row.FLAG)\n",
    "                }]->(to)\n",
    "\n",
    "                WITH row\n",
    "                MATCH (block:Block {blockNumber: toInteger(row.blockNumber), timeStamp: toInteger(row.timeStamp)})\n",
    "                MATCH (from:Account {address: COALESCE(row.from, 'Unknown')})\n",
    "                MATCH (to:Account {address: COALESCE(row.to, 'Unknown')})\n",
    "\n",
    "                CREATE (block)-[:CONTAINS]->(from)\n",
    "                CREATE (block)-[:CONTAINS]->(to)\n",
    "\n",
    "                FOREACH (ignore IN CASE WHEN row.contractAddress IS NOT NULL THEN [1] ELSE [] END |\n",
    "                    MERGE (sc:SmartContract {contractAddress: row.contractAddress})\n",
    "                )\n",
    "\n",
    "                With row\n",
    "                MATCH (from:Account {address: COALESCE(row.from, 'Unknown')})\n",
    "                MATCH (to:Account {address: COALESCE(row.to, 'Unknown')})\n",
    "                OPTIONAL MATCH (sc:SmartContract {contractAddress: row.contractAddress})\n",
    "\n",
    "                WITH from, to, sc\n",
    "                WHERE sc IS NOT NULL\n",
    "\n",
    "                FOREACH(ignore IN CASE WHEN sc IS NOT NULL THEN [1] ELSE [] END |\n",
    "                    CREATE (from)-[:INVOKES]->(sc)\n",
    "                    CREATE (to)-[:INVOKES]->(sc)\n",
    "                )\n",
    "            } IN TRANSACTIONS OF 500 ROWS\n",
    "        \"\"\"\n",
    "        session.run(query) \n",
    "\n",
    "# Function to close the Neo4j connection\n",
    "def close_neo4j_connection(driver):\n",
    "    driver.close()"
   ]
  },
  {
   "cell_type": "markdown",
   "metadata": {},
   "source": [
    "### Pre Analysis - Illicit"
   ]
  },
  {
   "cell_type": "code",
   "execution_count": 18,
   "metadata": {},
   "outputs": [],
   "source": [
    "ill_df = pd.read_csv('../illicit_transaction_batches/illicit_transactions_eth.csv')\n"
   ]
  },
  {
   "cell_type": "code",
   "execution_count": 19,
   "metadata": {},
   "outputs": [
    {
     "data": {
      "text/plain": [
       "blockNumber         0.000000\n",
       "timeStamp           0.000000\n",
       "hash                0.000000\n",
       "from                0.000000\n",
       "to                  0.059556\n",
       "value               0.000000\n",
       "gas                 0.000000\n",
       "gasPrice            0.000000\n",
       "isError             0.000000\n",
       "contractAddress    99.940444\n",
       "FLAG                0.000000\n",
       "dtype: float64"
      ]
     },
     "execution_count": 19,
     "metadata": {},
     "output_type": "execute_result"
    }
   ],
   "source": [
    "(ill_df.isna().sum() / len(ill_df)) * 100"
   ]
  },
  {
   "cell_type": "markdown",
   "metadata": {},
   "source": [
    "### Pushing to Neo4j - Execution"
   ]
  },
  {
   "cell_type": "code",
   "execution_count": 25,
   "metadata": {},
   "outputs": [],
   "source": [
    "driver = connect_to_neo4j(URI, USERNAME, PASS)\n",
    "import_data_from_csv(driver)  # Set include_contracts to True if needed\n",
    "close_neo4j_connection(driver)"
   ]
  },
  {
   "cell_type": "markdown",
   "metadata": {},
   "source": [
    "Adding Reputability Flag to Account nodes"
   ]
  },
  {
   "cell_type": "code",
   "execution_count": 32,
   "metadata": {},
   "outputs": [],
   "source": [
    "df = pd.read_csv('../fetch_illicit_accounts/illicit_addresses.csv')\n",
    "\n",
    "with driver.session() as session:\n",
    "    for index, row in df.iterrows():\n",
    "        address = row['addresses.ETH']\n",
    "        reputability_flag = 0\n",
    "        \n",
    "        query = (\n",
    "            f\"MATCH (account:Account {{address: '{address}'}}) \"\n",
    "            f\"SET account.reputabilityFlag = 0\"\n",
    "        )\n",
    "        \n",
    "        session.run(query)\n",
    "\n",
    "driver.close()"
   ]
  },
  {
   "cell_type": "markdown",
   "metadata": {},
   "source": [
    "## Reputable Smart Contracts"
   ]
  },
  {
   "cell_type": "markdown",
   "metadata": {},
   "source": [
    "### Cypher Queries "
   ]
  },
  {
   "cell_type": "code",
   "execution_count": 33,
   "metadata": {},
   "outputs": [],
   "source": [
    "def import_data_from_csv(driver, file_name):\n",
    "    logging.info(f\"Importing data from CSV file: {file_name}\")\n",
    "    with driver.session() as session:\n",
    "        query = f\"\"\"\n",
    "            LOAD CSV WITH HEADERS FROM 'file:///reputable_transactions/{file_name}.csv' AS row\n",
    "            CALL {{\n",
    "                WITH row \n",
    "                MERGE (from:Account {{address: COALESCE(row.from, 'Unknown')}})\n",
    "                MERGE (to:Account {{address: COALESCE(row.to, 'Unknown')}})\n",
    "\n",
    "                MERGE (block:Block {{blockNumber: toInteger(row.blockNumber), timeStamp: toInteger(row.timeStamp)}})\n",
    "                \n",
    "                WITH row, toFloat(row.value) / 1.0E18 AS value\n",
    "                \n",
    "                MATCH (from:Account {{address: COALESCE(row.from, 'Unknown')}})\n",
    "                MATCH (to:Account {{address: COALESCE(row.to, 'Unknown')}})\n",
    "                CREATE (from)-[:TRANSFER {{\n",
    "                    timeStamp: toInteger(row.timeStamp),\n",
    "                    hash: row.hash,\n",
    "                    value: value,\n",
    "                    gas: toInteger(row.gas),\n",
    "                    gasPrice: toInteger(row.gasPrice),\n",
    "                    isError: toBoolean(row.isError),\n",
    "                    reputabilityFlag: 1\n",
    "                }}]->(to)\n",
    "\n",
    "                WITH row\n",
    "                MATCH (block:Block {{blockNumber: toInteger(row.blockNumber), timeStamp: toInteger(row.timeStamp)}})\n",
    "                MATCH (from:Account {{address: COALESCE(row.from, 'Unknown')}})\n",
    "                MATCH (to:Account {{address: COALESCE(row.to, 'Unknown')}})\n",
    "\n",
    "                CREATE (block)-[:CONTAINS]->(from)\n",
    "                CREATE (block)-[:CONTAINS]->(to)\n",
    "\n",
    "                FOREACH (ignore IN CASE WHEN row.contractAddress IS NOT NULL THEN [1] ELSE [] END |\n",
    "                    MERGE (sc:SmartContract {{contractAddress: row.contractAddress}})\n",
    "                )\n",
    "\n",
    "                WITH row\n",
    "                MATCH (from:Account {{address: COALESCE(row.from, 'Unknown')}})\n",
    "                MATCH (to:Account {{address: COALESCE(row.to, 'Unknown')}})\n",
    "                OPTIONAL MATCH (sc:SmartContract {{contractAddress: row.contractAddress}})\n",
    "\n",
    "                WITH from, to, sc\n",
    "                WHERE sc IS NOT NULL\n",
    "\n",
    "                FOREACH(ignore IN CASE WHEN sc IS NOT NULL THEN [1] ELSE [] END |\n",
    "                    CREATE (from)-[:INVOKES]->(sc)\n",
    "                    CREATE (to)-[:INVOKES]->(sc)\n",
    "                )\n",
    "            }} IN TRANSACTIONS OF 500 ROWS\n",
    "        \"\"\"\n",
    "        logging.info(f\"Data import from CSV file {file_name} completed\")\n",
    "        session.run(query)"
   ]
  },
  {
   "cell_type": "markdown",
   "metadata": {},
   "source": [
    "### Pushing to Neo4j - Execution"
   ]
  },
  {
   "cell_type": "code",
   "execution_count": null,
   "metadata": {},
   "outputs": [],
   "source": [
    "def import_data_from_multiple_csv(driver):\n",
    "    logging.info(\"Starting data import from multiple CSV files - Reputable Transactions\")\n",
    "\n",
    "    for i in range(20):  # 20 batch files of reputable transactions\n",
    "        file_name = f\"eth_trans_batch_{i}\"\n",
    "        import_data_from_csv(driver, file_name)\n",
    "\n",
    "    logging.info(\"Data import from multiple CSV files completed - Reputable Transactions\")\n",
    "\n",
    "# Call the function to import data from all CSV files\n",
    "import_data_from_multiple_csv(driver)"
   ]
  }
 ],
 "metadata": {
  "kernelspec": {
   "display_name": "base",
   "language": "python",
   "name": "python3"
  },
  "language_info": {
   "codemirror_mode": {
    "name": "ipython",
    "version": 3
   },
   "file_extension": ".py",
   "mimetype": "text/x-python",
   "name": "python",
   "nbconvert_exporter": "python",
   "pygments_lexer": "ipython3",
   "version": "3.10.13"
  }
 },
 "nbformat": 4,
 "nbformat_minor": 2
}
