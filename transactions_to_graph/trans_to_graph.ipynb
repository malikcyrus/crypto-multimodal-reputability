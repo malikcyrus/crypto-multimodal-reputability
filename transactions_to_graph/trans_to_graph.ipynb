{
 "cells": [
  {
   "cell_type": "code",
   "execution_count": 150,
   "metadata": {},
   "outputs": [],
   "source": [
    "from py2neo import Graph\n",
    "from neo4j import GraphDatabase\n",
    "import pandas as pd\n",
    "import numpy as np \n",
    "import os\n",
    "from dotenv import load_dotenv\n",
    "import logging"
   ]
  },
  {
   "cell_type": "markdown",
   "metadata": {},
   "source": [
    "## Load Enviornment Variables"
   ]
  },
  {
   "cell_type": "code",
   "execution_count": 151,
   "metadata": {},
   "outputs": [],
   "source": [
    "load_dotenv()\n",
    "USERNAME = os.getenv('USERNAME_NEO4J')\n",
    "PASS = os.getenv('PASSWORD_NEO4J')\n",
    "URI = 'neo4j://172.19.30.125:7687'"
   ]
  },
  {
   "cell_type": "markdown",
   "metadata": {},
   "source": [
    "## Configuring Logging"
   ]
  },
  {
   "cell_type": "code",
   "execution_count": 152,
   "metadata": {},
   "outputs": [],
   "source": [
    "import logging \n",
    "\n",
    "# Configure logging\n",
    "logging.basicConfig(filename='neo4j_import.log',\n",
    "                     level=logging.INFO, format='%(asctime)s - %(levelname)s - %(message)s')\n"
   ]
  },
  {
   "cell_type": "markdown",
   "metadata": {},
   "source": [
    "## Defining Graph Properties for Neo4j"
   ]
  },
  {
   "cell_type": "markdown",
   "metadata": {},
   "source": [
    "### Cypher Queries - Graph Schema"
   ]
  },
  {
   "cell_type": "code",
   "execution_count": 191,
   "metadata": {},
   "outputs": [],
   "source": [
    "def load_data_from_csv(csv_file):\n",
    "\n",
    "    cypher_query = \"\"\"\n",
    "    LOAD CSV WITH HEADERS FROM $csv_file AS row\n",
    "    WITH row\n",
    "    WHERE row.FLAG = '1'\n",
    "    MERGE (sc:SmartContract {contractAddress: row.contractAddress})\n",
    "    ON CREATE SET sc.reputable = toBoolean(row.FLAG)\n",
    "\n",
    "    WITH row\n",
    "    MERGE (a1:Account {address: row.from})\n",
    "    SET a1.balance = toFloat(row.balance1)\n",
    "    MERGE (a2:Account {address: row.to})\n",
    "    SET a2.balance = toFloat(row.balance2)\n",
    "\n",
    "    WITH row\n",
    "    MERGE (b:Block {blockNumber: toInteger(row.blockNumber)})\n",
    "    ON CREATE SET b.timeStamp = toInteger(row.timeStamp)\n",
    "\n",
    "    WITH row\n",
    "    MATCH (from:Account {address: row.from}), (to:Account {address: row.to}), (sc:SmartContract {contractAddress: row.contractAddress}), (b:Block {blockNumber: toInteger(row.blockNumber)})\n",
    "    CREATE (from)-[:TRANSFER {hash: row.hash, value: toFloat(row.value), gas: toInteger(row.gas), gasPrice: toInteger(row.gasPrice), isError: toBoolean(row.isError)}]->(to),\n",
    "           (from)-[:INVOKES]->(sc),\n",
    "           (to)-[:INVOKES]->(sc),\n",
    "           (b)-[:CONTAINS]->(from),\n",
    "           (b)-[:CONTAINS]->(to)\n",
    "    \"\"\"\n",
    "\n",
    "    driver = GraphDatabase.driver(URI, auth=(USERNAME, PASS))\n",
    "\n",
    "    with driver.session() as session:\n",
    "        try:\n",
    "            session.run(cypher_query, csv_file=csv_file)\n",
    "            print(f\"Data imported from CSV file '{csv_file}' successfully.\")\n",
    "            logging.info(f\"Data imported from CSV file '{csv_file}' successfully.\")\n",
    "\n",
    "        except Exception as e:\n",
    "            print(f\"Error importing data from CSV file '{csv_file}': {e}\")\n",
    "            logging.error(f\"Error importing data from CSV file '{csv_file}': {e}\")\n",
    "\n",
    "        finally:\n",
    "            driver.close()\n",
    "            logging.info(\"Neo4j driver connection closed.\")"
   ]
  },
  {
   "cell_type": "markdown",
   "metadata": {},
   "source": [
    "## Pushing to Neo4j - Execution"
   ]
  },
  {
   "cell_type": "markdown",
   "metadata": {},
   "source": [
    "### Illicit Smart Contracts"
   ]
  },
  {
   "cell_type": "code",
   "execution_count": 192,
   "metadata": {},
   "outputs": [
    {
     "name": "stdout",
     "output_type": "stream",
     "text": [
      "Data imported from CSV file 'file:///illicit_transactions_eth.csv' successfully.\n"
     ]
    }
   ],
   "source": [
    "csv_file = \"file:///illicit_transactions_eth.csv\"\n",
    "load_data_from_csv(csv_file)"
   ]
  },
  {
   "cell_type": "code",
   "execution_count": 193,
   "metadata": {},
   "outputs": [],
   "source": [
    "def check_data_existence():\n",
    "    # Define Cypher queries to count nodes and relationships\n",
    "    node_query = \"MATCH (n:Account) RETURN COUNT(n:Account) AS nodeCount\"\n",
    "    relationship_query = \"MATCH ()-[r]->() RETURN COUNT(r) AS relationshipCount\"\n",
    "    \n",
    "    # Connect to Neo4j\n",
    "    driver = GraphDatabase.driver(URI, auth=(USERNAME, PASS))\n",
    "    \n",
    "    with driver.session() as session:\n",
    "        # Execute node count query\n",
    "        node_result = session.run(node_query).single()\n",
    "        node_count = node_result[\"nodeCount\"]\n",
    "        \n",
    "        # Execute relationship count query\n",
    "        relationship_result = session.run(relationship_query).single()\n",
    "        relationship_count = relationship_result[\"relationshipCount\"]\n",
    "        \n",
    "        # Print node and relationship counts\n",
    "        print(f\"Node count: {node_count}\")\n",
    "        print(f\"Relationship count: {relationship_count}\")\n",
    "        \n",
    "        # Check if any nodes or relationships exist\n",
    "        if node_count > 0 or relationship_count > 0:\n",
    "            print(\"Data exists in Neo4j.\")\n",
    "        else:\n",
    "            print(\"No data found in Neo4j.\")\n",
    "\n",
    "    # Close the Neo4j driver\n",
    "    driver.close()\n"
   ]
  },
  {
   "cell_type": "code",
   "execution_count": 190,
   "metadata": {},
   "outputs": [
    {
     "name": "stdout",
     "output_type": "stream",
     "text": [
      "Node count: 0\n",
      "Relationship count: 0\n",
      "No data found in Neo4j.\n"
     ]
    }
   ],
   "source": [
    "check_data_existence()"
   ]
  }
 ],
 "metadata": {
  "kernelspec": {
   "display_name": "base",
   "language": "python",
   "name": "python3"
  },
  "language_info": {
   "codemirror_mode": {
    "name": "ipython",
    "version": 3
   },
   "file_extension": ".py",
   "mimetype": "text/x-python",
   "name": "python",
   "nbconvert_exporter": "python",
   "pygments_lexer": "ipython3",
   "version": "3.10.13"
  }
 },
 "nbformat": 4,
 "nbformat_minor": 2
}
