{
 "cells": [
  {
   "cell_type": "code",
   "execution_count": 1,
   "metadata": {},
   "outputs": [],
   "source": [
    "from neo4j import GraphDatabase\n",
    "import os\n",
    "from dotenv import load_dotenv\n",
    "import logging\n",
    "from multiprocessing import Pool\n",
    "import pandas as pd\n",
    "import itertools"
   ]
  },
  {
   "cell_type": "markdown",
   "metadata": {},
   "source": [
    "## Load Enviornment Variables"
   ]
  },
  {
   "cell_type": "code",
   "execution_count": 2,
   "metadata": {},
   "outputs": [],
   "source": [
    "load_dotenv()\n",
    "USERNAME = os.getenv('USERNAME_NEO4J')\n",
    "PASS = os.getenv('PASSWORD_NEO4J')\n",
    "URI = 'neo4j://localhost:7687'"
   ]
  },
  {
   "cell_type": "markdown",
   "metadata": {},
   "source": [
    "## Configuring Logging"
   ]
  },
  {
   "cell_type": "code",
   "execution_count": 3,
   "metadata": {},
   "outputs": [],
   "source": [
    "# Configure logging\n",
    "logging.basicConfig(filename='neo4j_import.log',\n",
    "                     level=logging.INFO, format='%(asctime)s - %(levelname)s - %(message)s')\n"
   ]
  },
  {
   "cell_type": "markdown",
   "metadata": {},
   "source": [
    "## Defining Graph Properties for Neo4j"
   ]
  },
  {
   "cell_type": "markdown",
   "metadata": {},
   "source": [
    "### Cypher Queries - Graph Schema"
   ]
  },
  {
   "cell_type": "code",
   "execution_count": 4,
   "metadata": {},
   "outputs": [],
   "source": [
    "# Function to connect to Neo4j\n",
    "def connect_to_neo4j(uri, user, password):\n",
    "    driver = GraphDatabase.driver(uri, auth=(user, password))\n",
    "    return driver\n",
    "\n",
    "# LOAD CSV WITH HEADERS FROM 'file:///artists-with-headers.csv' AS line\n",
    "# CREATE (:Artist {name: line.Name, year: toInteger(line.Year)})\n",
    "#/home/malikcyrus/ics5200/illicit_transaction_batches\n",
    "#               WITH line, toFloat(line.value) / 1.0E18 AS value\n",
    "\n",
    "def import_data_from_csv(driver):\n",
    "    with driver.session() as session:\n",
    "        query = \"\"\"\n",
    "            LOAD CSV WITH HEADERS FROM 'file:///illicit_transactions/illicit_transactions_eth.csv' AS row\n",
    "            CALL {\n",
    "                WITH row \n",
    "                MERGE (from:Account {address: COALESCE(row.from, 'Unknown')})\n",
    "                MERGE (to:Account {address: COALESCE(row.to, 'Unknown')})\n",
    "\n",
    "                MERGE (block:Block {blockNumber: toInteger(row.blockNumber), timeStamp: toInteger(row.timeStamp)})\n",
    "                \n",
    "                WITH row, toFloat(row.value) / 1.0E18 AS value\n",
    "                \n",
    "                MATCH (from:Account {address: COALESCE(row.from, 'Unknown')})\n",
    "                MATCH (to:Account {address: COALESCE(row.to, 'Unknown')})\n",
    "                CREATE (from)-[:TRANSFER {\n",
    "                    timeStamp: toInteger(row.timeStamp),\n",
    "                    hash: row.hash,\n",
    "                    value: value,\n",
    "                    gas: toInteger(row.gas),\n",
    "                    gasPrice: toInteger(row.gasPrice),\n",
    "                    isError: toBoolean(row.isError),\n",
    "                    reputabilityFlag: toInteger(row.FLAG)\n",
    "                }]->(to)\n",
    "\n",
    "                MATCH (block:Block {blockNumber: toInteger(row.blockNumber), timeStamp: toInteger(row.timeStamp)})\n",
    "                MATCH (from:Account {address: COALESCE(row.from, 'Unknown')})\n",
    "                MATCH (to:Account {address: COALESCE(row.to, 'Unknown')})\n",
    "\n",
    "                CREATE (block)-[:CONTAINS]->(from)\n",
    "                CREATE (block)-[:CONTAINS]->(to)\n",
    "\n",
    "                FOREACH (ignore IN CASE WHEN row.contractAddress IS NOT NULL THEN [1] ELSE [] END |\n",
    "                    MERGE (sc:SmartContract {contractAddress: row.contractAddress})\n",
    "                    \n",
    "                    MATCH (sc:SmartContract {contractAddress: row.contractAddress})\n",
    "                    MATCH (from:Account {address: COALESCE(row.from, 'Unknown')})\n",
    "                    MATCH (to:Account {address: COALESCE(row.to, 'Unknown')})\n",
    "                    \n",
    "                    CREATE (from)-[:INVOKES]->(sc)\n",
    "                    CREATE (to)-[:INVOKES]->(sc)\n",
    "                )\n",
    "            } IN TRANSACTIONS OF 500 ROWS\n",
    "        \"\"\"\n",
    "        session.run(query) \n",
    "\n",
    "# Function to close the Neo4j connection\n",
    "def close_neo4j_connection(driver):\n",
    "    driver.close()"
   ]
  },
  {
   "cell_type": "markdown",
   "metadata": {},
   "source": [
    "## Pushing to Neo4j - Execution"
   ]
  },
  {
   "cell_type": "markdown",
   "metadata": {},
   "source": [
    "### Pre Analysis - Illicit"
   ]
  },
  {
   "cell_type": "code",
   "execution_count": 18,
   "metadata": {},
   "outputs": [],
   "source": [
    "ill_df = pd.read_csv('../illicit_transaction_batches/illicit_transactions_eth.csv')\n"
   ]
  },
  {
   "cell_type": "code",
   "execution_count": 19,
   "metadata": {},
   "outputs": [
    {
     "data": {
      "text/plain": [
       "blockNumber         0.000000\n",
       "timeStamp           0.000000\n",
       "hash                0.000000\n",
       "from                0.000000\n",
       "to                  0.059556\n",
       "value               0.000000\n",
       "gas                 0.000000\n",
       "gasPrice            0.000000\n",
       "isError             0.000000\n",
       "contractAddress    99.940444\n",
       "FLAG                0.000000\n",
       "dtype: float64"
      ]
     },
     "execution_count": 19,
     "metadata": {},
     "output_type": "execute_result"
    }
   ],
   "source": [
    "(ill_df.isna().sum() / len(ill_df)) * 100"
   ]
  },
  {
   "cell_type": "markdown",
   "metadata": {},
   "source": [
    "### Illicit Smart Contracts"
   ]
  },
  {
   "cell_type": "code",
   "execution_count": 6,
   "metadata": {},
   "outputs": [],
   "source": [
    "file_path = \"illicit_transactions_eth.csv\"\n",
    "\n",
    "driver = connect_to_neo4j(URI, USERNAME, PASS)\n",
    "import_data_from_csv(driver)  # Set include_contracts to True if needed\n",
    "close_neo4j_connection(driver)"
   ]
  },
  {
   "cell_type": "code",
   "execution_count": 9,
   "metadata": {},
   "outputs": [],
   "source": [
    "def check_data_existence():\n",
    "    # Define Cypher queries to count nodes and relationships\n",
    "    node_query = \"MATCH (n:Account) RETURN COUNT(n:Account) AS nodeCount\"\n",
    "    relationship_query = \"MATCH ()-[r]->() RETURN COUNT(r) AS relationshipCount\"\n",
    "    \n",
    "    # Connect to Neo4j\n",
    "    driver = GraphDatabase.driver(URI, auth=(USERNAME, PASS), database=\"neo4j\")\n",
    "    \n",
    "    with driver.session() as session:\n",
    "        # Execute node count query\n",
    "        node_result = session.run(node_query).single()\n",
    "        node_count = node_result[\"nodeCount\"]\n",
    "        \n",
    "        # Execute relationship count query\n",
    "        relationship_result = session.run(relationship_query).single()\n",
    "        relationship_count = relationship_result[\"relationshipCount\"]\n",
    "        \n",
    "        # Print node and relationship counts\n",
    "        print(f\"Node count: {node_count}\")\n",
    "        print(f\"Relationship count: {relationship_count}\")\n",
    "        \n",
    "        # Check if any nodes or relationships exist\n",
    "        if node_count > 0 or relationship_count > 0:\n",
    "            print(\"Data exists in Neo4j.\")\n",
    "        else:\n",
    "            print(\"No data found in Neo4j.\")\n",
    "\n",
    "    # Close the Neo4j driver\n",
    "    driver.close()\n"
   ]
  },
  {
   "cell_type": "code",
   "execution_count": 10,
   "metadata": {},
   "outputs": [
    {
     "name": "stdout",
     "output_type": "stream",
     "text": [
      "Node count: 0\n",
      "Relationship count: 0\n",
      "No data found in Neo4j.\n"
     ]
    }
   ],
   "source": [
    "check_data_existence()"
   ]
  }
 ],
 "metadata": {
  "kernelspec": {
   "display_name": "base",
   "language": "python",
   "name": "python3"
  },
  "language_info": {
   "codemirror_mode": {
    "name": "ipython",
    "version": 3
   },
   "file_extension": ".py",
   "mimetype": "text/x-python",
   "name": "python",
   "nbconvert_exporter": "python",
   "pygments_lexer": "ipython3",
   "version": "3.10.13"
  }
 },
 "nbformat": 4,
 "nbformat_minor": 2
}
