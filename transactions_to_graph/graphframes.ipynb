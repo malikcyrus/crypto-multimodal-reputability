{
 "cells": [
  {
   "cell_type": "code",
   "execution_count": 17,
   "id": "98ce085b",
   "metadata": {},
   "outputs": [],
   "source": [
    "from graphframes import *\n"
   ]
  },
  {
   "cell_type": "markdown",
   "id": "ea5fd1d4",
   "metadata": {},
   "source": [
    "Create the vertices of the graph. Each vertex needs a unique ID, placed in a column named `id`. Additional arbitrary columns can be added."
   ]
  },
  {
   "cell_type": "code",
   "execution_count": 18,
   "id": "70411f17",
   "metadata": {},
   "outputs": [],
   "source": [
    "vertices = spark.createDataFrame([\n",
    "  (\"a\", \"Alice\", 34, \"female\"),\n",
    "  (\"b\", \"Bob\", 36, \"male\"),\n",
    "  (\"c\", \"Charlie\", 30, \"male\"),\n",
    "  (\"d\", \"David\", 29, \"male\"),\n",
    "  (\"e\", \"Esther\", 32, \"female\"),\n",
    "  (\"f\", \"Fanny\", 36, \"female\"),\n",
    "  (\"g\", \"Gabby\", 60, \"female\")], \n",
    "    [\"id\", \"name\", \"age\", \"gender\"])"
   ]
  },
  {
   "cell_type": "markdown",
   "id": "aa1e082a",
   "metadata": {},
   "source": [
    "Create the edges of the graph. Each edge needs to have a `src` and `dst` which refer to vertex IDs. Additional arbitrary columns can be added."
   ]
  },
  {
   "cell_type": "code",
   "execution_count": 19,
   "id": "847ae038",
   "metadata": {},
   "outputs": [],
   "source": [
    "edges = spark.createDataFrame([\n",
    "  (\"a\", \"b\", \"friend\"),\n",
    "  (\"b\", \"c\", \"follow\"),\n",
    "  (\"c\", \"b\", \"follow\"),\n",
    "  (\"f\", \"c\", \"follow\"),\n",
    "  (\"e\", \"f\", \"follow\"),\n",
    "  (\"e\", \"d\", \"friend\"),\n",
    "  (\"d\", \"a\", \"friend\"),\n",
    "  (\"a\", \"e\", \"friend\")], \n",
    "    [\"src\", \"dst\", \"relationship\"])"
   ]
  },
  {
   "cell_type": "markdown",
   "id": "3976aa12",
   "metadata": {},
   "source": [
    "Create the graph from edges and vertices."
   ]
  },
  {
   "cell_type": "code",
   "execution_count": 20,
   "id": "d5a19dcc",
   "metadata": {},
   "outputs": [
    {
     "name": "stdout",
     "output_type": "stream",
     "text": [
      "+---+-------+---+------+\n",
      "| id|   name|age|gender|\n",
      "+---+-------+---+------+\n",
      "|  a|  Alice| 34|female|\n",
      "|  b|    Bob| 36|  male|\n",
      "|  c|Charlie| 30|  male|\n",
      "|  d|  David| 29|  male|\n",
      "|  e| Esther| 32|female|\n",
      "|  f|  Fanny| 36|female|\n",
      "|  g|  Gabby| 60|female|\n",
      "+---+-------+---+------+\n",
      "\n",
      "+---+---+------------+\n",
      "|src|dst|relationship|\n",
      "+---+---+------------+\n",
      "|  a|  b|      friend|\n",
      "|  b|  c|      follow|\n",
      "|  c|  b|      follow|\n",
      "|  f|  c|      follow|\n",
      "|  e|  f|      follow|\n",
      "|  e|  d|      friend|\n",
      "|  d|  a|      friend|\n",
      "|  a|  e|      friend|\n",
      "+---+---+------------+\n",
      "\n"
     ]
    }
   ],
   "source": [
    "g = GraphFrame(vertices, edges)\n",
    "\n",
    "g.vertices.show()\n",
    "g.edges.show()\n"
   ]
  },
  {
   "cell_type": "markdown",
   "id": "29d14c05",
   "metadata": {},
   "source": [
    "Show the number of degrees, inDegrees and outDegrees of the graph."
   ]
  },
  {
   "cell_type": "code",
   "execution_count": 5,
   "id": "bf4aa03f",
   "metadata": {},
   "outputs": [
    {
     "name": "stdout",
     "output_type": "stream",
     "text": [
      "+---+------+\n",
      "| id|degree|\n",
      "+---+------+\n",
      "|  b|     3|\n",
      "|  a|     3|\n",
      "|  c|     3|\n",
      "|  f|     2|\n",
      "|  e|     3|\n",
      "|  d|     2|\n",
      "+---+------+\n",
      "\n",
      "+---+---------+\n",
      "| id|outDegree|\n",
      "+---+---------+\n",
      "|  a|        2|\n",
      "|  b|        1|\n",
      "|  c|        1|\n",
      "|  f|        1|\n",
      "|  e|        2|\n",
      "|  d|        1|\n",
      "+---+---------+\n",
      "\n",
      "+---+--------+\n",
      "| id|inDegree|\n",
      "+---+--------+\n",
      "|  b|       2|\n",
      "|  c|       2|\n",
      "|  f|       1|\n",
      "|  d|       1|\n",
      "|  a|       1|\n",
      "|  e|       1|\n",
      "+---+--------+\n",
      "\n"
     ]
    }
   ],
   "source": [
    "#todo: show the number of degrees, inDegrees and outDegrees of the graph"
   ]
  },
  {
   "cell_type": "markdown",
   "id": "93e050f4",
   "metadata": {},
   "source": [
    "Group the vertices by gender, and show the minimum age, maximum age and average age for each gender."
   ]
  },
  {
   "cell_type": "code",
   "execution_count": 6,
   "id": "f695253e",
   "metadata": {},
   "outputs": [
    {
     "name": "stdout",
     "output_type": "stream",
     "text": [
      "+------+--------+------------------+--------+\n",
      "|gender|min(age)|          avg(age)|max(age)|\n",
      "+------+--------+------------------+--------+\n",
      "|female|      32|              40.5|      60|\n",
      "|  male|      29|31.666666666666668|      36|\n",
      "+------+--------+------------------+--------+\n",
      "\n"
     ]
    }
   ],
   "source": [
    "from pyspark.sql.functions import min, avg, max\n",
    "\n",
    "#todo: group the vertices by gender and show the minimum, maximum and average age for each gender"
   ]
  },
  {
   "cell_type": "markdown",
   "id": "4119482d",
   "metadata": {},
   "source": [
    "How many \"follow\" relationships are there?"
   ]
  },
  {
   "cell_type": "code",
   "execution_count": 8,
   "id": "f99fe9d3",
   "metadata": {},
   "outputs": [
    {
     "name": "stdout",
     "output_type": "stream",
     "text": [
      "4\n"
     ]
    }
   ],
   "source": [
    "#todo: count how many follow relationship edges are there and print it"
   ]
  },
  {
   "cell_type": "markdown",
   "id": "b21fb1a2",
   "metadata": {},
   "source": [
    "How many males are there?"
   ]
  },
  {
   "cell_type": "code",
   "execution_count": 10,
   "id": "17965d88",
   "metadata": {},
   "outputs": [
    {
     "name": "stdout",
     "output_type": "stream",
     "text": [
      "3\n"
     ]
    }
   ],
   "source": [
    "#todo: count the number of vertices that have gender male"
   ]
  },
  {
   "cell_type": "markdown",
   "id": "f0dcfc8f",
   "metadata": {},
   "source": [
    "Use Motifs to list the pairs of vertices that have a directed edge in both directions."
   ]
  },
  {
   "cell_type": "code",
   "execution_count": 12,
   "id": "9ed91f1d",
   "metadata": {},
   "outputs": [
    {
     "name": "stdout",
     "output_type": "stream",
     "text": [
      "+--------------------+--------------+--------------------+--------------+\n",
      "|                   a|             e|                   b|            e2|\n",
      "+--------------------+--------------+--------------------+--------------+\n",
      "|{c, Charlie, 30, ...|{c, b, follow}|  {b, Bob, 36, male}|{b, c, follow}|\n",
      "|  {b, Bob, 36, male}|{b, c, follow}|{c, Charlie, 30, ...|{c, b, follow}|\n",
      "+--------------------+--------------+--------------------+--------------+\n",
      "\n"
     ]
    }
   ],
   "source": [
    "#todo: list the vertices that have an edge in both directions"
   ]
  },
  {
   "cell_type": "markdown",
   "id": "d5638ae9",
   "metadata": {},
   "source": [
    "Use Motifs to list the pairs of vertices that only have an edge in one direction."
   ]
  },
  {
   "cell_type": "code",
   "execution_count": 18,
   "id": "99d63270",
   "metadata": {},
   "outputs": [
    {
     "name": "stdout",
     "output_type": "stream",
     "text": [
      "+--------------------+--------------+--------------------+\n",
      "|                   a|             e|                   b|\n",
      "+--------------------+--------------+--------------------+\n",
      "|{e, Esther, 32, f...|{e, f, follow}|{f, Fanny, 36, fe...|\n",
      "|{a, Alice, 34, fe...|{a, e, friend}|{e, Esther, 32, f...|\n",
      "|{d, David, 29, male}|{d, a, friend}|{a, Alice, 34, fe...|\n",
      "|{e, Esther, 32, f...|{e, d, friend}|{d, David, 29, male}|\n",
      "|{f, Fanny, 36, fe...|{f, c, follow}|{c, Charlie, 30, ...|\n",
      "|{a, Alice, 34, fe...|{a, b, friend}|  {b, Bob, 36, male}|\n",
      "+--------------------+--------------+--------------------+\n",
      "\n"
     ]
    }
   ],
   "source": [
    "#todo: list the vertices that have only an edge in one direction"
   ]
  },
  {
   "cell_type": "markdown",
   "id": "2b468ced",
   "metadata": {},
   "source": [
    "Find the vertices that have no inbound followers or friends. "
   ]
  },
  {
   "cell_type": "code",
   "execution_count": 29,
   "id": "c857852d",
   "metadata": {},
   "outputs": [
    {
     "name": "stdout",
     "output_type": "stream",
     "text": [
      "+--------------------+\n",
      "|                   a|\n",
      "+--------------------+\n",
      "|{g, Gabby, 60, fe...|\n",
      "+--------------------+\n",
      "\n"
     ]
    }
   ],
   "source": [
    "#todo: find the vertices that have no inbound edges"
   ]
  },
  {
   "cell_type": "markdown",
   "id": "e1ad0ec1",
   "metadata": {},
   "source": [
    "Use Breadth-First Search to find the path between Alice and David."
   ]
  },
  {
   "cell_type": "code",
   "execution_count": 25,
   "id": "ff57d2b4",
   "metadata": {},
   "outputs": [
    {
     "name": "stdout",
     "output_type": "stream",
     "text": [
      "+--------------------+--------------+--------------------+--------------+--------------------+\n",
      "|                from|            e0|                  v1|            e1|                  to|\n",
      "+--------------------+--------------+--------------------+--------------+--------------------+\n",
      "|{a, Alice, 34, fe...|{a, e, friend}|{e, Esther, 32, f...|{e, d, friend}|{d, David, 29, male}|\n",
      "+--------------------+--------------+--------------------+--------------+--------------------+\n",
      "\n"
     ]
    }
   ],
   "source": [
    "#todo: find the path between Alice and David"
   ]
  },
  {
   "cell_type": "code",
   "execution_count": null,
   "id": "6b418a8b",
   "metadata": {},
   "outputs": [],
   "source": []
  }
 ],
 "metadata": {
  "kernelspec": {
   "display_name": "Python 3",
   "language": "python",
   "name": "python3"
  },
  "language_info": {
   "codemirror_mode": {
    "name": "ipython",
    "version": 3
   },
   "file_extension": ".py",
   "mimetype": "text/x-python",
   "name": "python",
   "nbconvert_exporter": "python",
   "pygments_lexer": "ipython3",
   "version": "3.9.12"
  }
 },
 "nbformat": 4,
 "nbformat_minor": 5
}
