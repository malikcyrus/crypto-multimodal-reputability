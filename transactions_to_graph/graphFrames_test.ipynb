{
 "cells": [
  {
   "cell_type": "code",
   "execution_count": 1,
   "metadata": {},
   "outputs": [],
   "source": [
    "import sys\n",
    "sys.path.append(\"/opt/spark/spark-3.5.0-bin-hadoop3/jars\")"
   ]
  },
  {
   "cell_type": "code",
   "execution_count": 4,
   "metadata": {},
   "outputs": [],
   "source": [
    "from pyspark.sql import SparkSession\n",
    "from graphframes import GraphFrame"
   ]
  },
  {
   "cell_type": "code",
   "execution_count": 5,
   "metadata": {},
   "outputs": [
    {
     "name": "stderr",
     "output_type": "stream",
     "text": [
      "your 131072x1 screen size is bogus. expect trouble\n",
      "24/03/04 21:03:37 WARN Utils: Your hostname, DESKTOP-RPSMPAH resolves to a loopback address: 127.0.1.1; using 172.19.30.125 instead (on interface eth0)\n",
      "24/03/04 21:03:37 WARN Utils: Set SPARK_LOCAL_IP if you need to bind to another address\n",
      "Setting default log level to \"WARN\".\n",
      "To adjust logging level use sc.setLogLevel(newLevel). For SparkR, use setLogLevel(newLevel).\n",
      "24/03/04 21:03:39 WARN NativeCodeLoader: Unable to load native-hadoop library for your platform... using builtin-java classes where applicable\n"
     ]
    }
   ],
   "source": [
    "spark = SparkSession.builder \\\n",
    "    .appName(\"GraphFramesExample\") \\\n",
    "    .getOrCreate()"
   ]
  },
  {
   "cell_type": "code",
   "execution_count": 6,
   "metadata": {},
   "outputs": [],
   "source": [
    "# Vertices DataFrame\n",
    "vertices = spark.createDataFrame([\n",
    "    (\"1\", \"Alice\"),\n",
    "    (\"2\", \"Bob\"),\n",
    "    (\"3\", \"Charlie\"),\n",
    "], [\"id\", \"name\"])\n",
    "\n",
    "# Edges DataFrame\n",
    "edges = spark.createDataFrame([\n",
    "    (\"1\", \"2\", \"friend\"),\n",
    "    (\"2\", \"3\", \"follow\"),\n",
    "    (\"3\", \"1\", \"enemy\"),\n",
    "], [\"src\", \"dst\", \"relationship\"])"
   ]
  }
 ],
 "metadata": {
  "kernelspec": {
   "display_name": "base",
   "language": "python",
   "name": "python3"
  },
  "language_info": {
   "codemirror_mode": {
    "name": "ipython",
    "version": 3
   },
   "file_extension": ".py",
   "mimetype": "text/x-python",
   "name": "python",
   "nbconvert_exporter": "python",
   "pygments_lexer": "ipython3",
   "version": "3.10.13"
  }
 },
 "nbformat": 4,
 "nbformat_minor": 2
}
